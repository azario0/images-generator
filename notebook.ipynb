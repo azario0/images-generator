{
 "cells": [
  {
   "cell_type": "markdown",
   "metadata": {},
   "source": [
    "# Generation d'images de gradien"
   ]
  },
  {
   "cell_type": "code",
   "execution_count": 11,
   "metadata": {},
   "outputs": [
    {
     "name": "stdout",
     "output_type": "stream",
     "text": [
      "Image saved as gradient.png\n"
     ]
    }
   ],
   "source": [
    "from PIL import Image, ImageDraw\n",
    "\n",
    "def generate_gradient_image(width, height, start_color, end_color, filename):\n",
    "    # Create a new image with the given dimensions\n",
    "    image = Image.new('RGB', (width, height))\n",
    "    draw = ImageDraw.Draw(image)\n",
    "    \n",
    "    # Calculate color step for each pixel\n",
    "    r_step = (end_color[0] - start_color[0]) / width\n",
    "    g_step = (end_color[1] - start_color[1]) / width\n",
    "    b_step = (end_color[2] - start_color[2]) / width\n",
    "    \n",
    "    # Draw gradient\n",
    "    for x in range(width):\n",
    "        r = int(start_color[0] + r_step * x)\n",
    "        g = int(start_color[1] + g_step * x)\n",
    "        b = int(start_color[2] + b_step * x)\n",
    "        draw.line([(x, 0), (x, height)], fill=(r, g, b))\n",
    "    \n",
    "    # Save the image\n",
    "    image.save(filename)\n",
    "    print(f\"Image saved as {filename}\")\n",
    "\n",
    "# Example usage\n",
    "width, height = 300, 200\n",
    "start_color = (255, 0, 0)  # Red\n",
    "end_color = (0, 0, 255)    # Blue\n",
    "filename = \"gradient.png\"\n",
    "\n",
    "generate_gradient_image(width, height, start_color, end_color, filename)"
   ]
  },
  {
   "cell_type": "markdown",
   "metadata": {},
   "source": [
    "# Generation d'images avec formes geometrique"
   ]
  },
  {
   "cell_type": "code",
   "execution_count": 18,
   "metadata": {},
   "outputs": [
    {
     "name": "stdout",
     "output_type": "stream",
     "text": [
      "Random image saved as random_image.png\n"
     ]
    }
   ],
   "source": [
    "import random\n",
    "from PIL import Image, ImageDraw\n",
    "\n",
    "def generate_random_image(width, height, num_shapes, filename):\n",
    "    # Create a new image with a random background color\n",
    "    bg_color = (random.randint(0, 255), random.randint(0, 255), random.randint(0, 255))\n",
    "    image = Image.new('RGB', (width, height), bg_color)\n",
    "    draw = ImageDraw.Draw(image)\n",
    "    \n",
    "    # Define shape types\n",
    "    shapes = ['rectangle', 'ellipse', 'line']\n",
    "    \n",
    "    # Draw random shapes\n",
    "    for _ in range(num_shapes):\n",
    "        shape = random.choice(shapes)\n",
    "        color = (random.randint(0, 255), random.randint(0, 255), random.randint(0, 255))\n",
    "        \n",
    "        # Random coordinates\n",
    "        x1 = random.randint(0, width - 1)\n",
    "        y1 = random.randint(0, height - 1)\n",
    "        x2 = random.randint(x1, width)\n",
    "        y2 = random.randint(y1, height)\n",
    "        \n",
    "        if shape == 'rectangle':\n",
    "            draw.rectangle([x1, y1, x2, y2], fill=color)\n",
    "        elif shape == 'ellipse':\n",
    "            draw.ellipse([x1, y1, x2, y2], fill=color)\n",
    "        elif shape == 'line':\n",
    "            draw.line([x1, y1, x2, y2], fill=color, width=random.randint(1, 5))\n",
    "    \n",
    "    # Save the image\n",
    "    image.save(filename)\n",
    "    print(f\"Random image saved as {filename}\")\n",
    "\n",
    "# Example usage\n",
    "width, height = 400, 300\n",
    "num_shapes = 10\n",
    "filename = \"random_image.png\"\n",
    "\n",
    "generate_random_image(width, height, num_shapes, filename)"
   ]
  },
  {
   "cell_type": "markdown",
   "metadata": {},
   "source": [
    "# Generation d'images avec formes geometrique avec equilibrement de couleurs"
   ]
  },
  {
   "cell_type": "code",
   "execution_count": 24,
   "metadata": {},
   "outputs": [
    {
     "name": "stdout",
     "output_type": "stream",
     "text": [
      "Random image with matching colors saved as random_image_matching_colors.png\n"
     ]
    }
   ],
   "source": [
    "import random\n",
    "import colorsys\n",
    "from PIL import Image, ImageDraw\n",
    "\n",
    "def generate_matching_color(base_color, variation=0.2):\n",
    "    h, s, v = colorsys.rgb_to_hsv(*[x/255.0 for x in base_color])\n",
    "    h = (h + random.uniform(-variation, variation)) % 1.0\n",
    "    s = max(0, min(1, s + random.uniform(-variation, variation)))\n",
    "    v = max(0, min(1, v + random.uniform(-variation, variation)))\n",
    "    return tuple(int(x * 255) for x in colorsys.hsv_to_rgb(h, s, v))\n",
    "\n",
    "def generate_random_image(width, height, num_shapes, filename):\n",
    "    # Create a new image with a random base color\n",
    "    base_color = (random.randint(0, 255), random.randint(0, 255), random.randint(0, 255))\n",
    "    image = Image.new('RGB', (width, height), base_color)\n",
    "    draw = ImageDraw.Draw(image)\n",
    "    \n",
    "    # Define shape types\n",
    "    shapes = ['rectangle', 'ellipse', 'line']\n",
    "    \n",
    "    # Draw random shapes\n",
    "    for _ in range(num_shapes):\n",
    "        shape = random.choice(shapes)\n",
    "        color = generate_matching_color(base_color)\n",
    "        \n",
    "        # Random coordinates\n",
    "        x1 = random.randint(0, width - 1)\n",
    "        y1 = random.randint(0, height - 1)\n",
    "        x2 = random.randint(x1, width)\n",
    "        y2 = random.randint(y1, height)\n",
    "        \n",
    "        if shape == 'rectangle':\n",
    "            draw.rectangle([x1, y1, x2, y2], fill=color)\n",
    "        elif shape == 'ellipse':\n",
    "            draw.ellipse([x1, y1, x2, y2], fill=color)\n",
    "        elif shape == 'line':\n",
    "            draw.line([x1, y1, x2, y2], fill=color, width=random.randint(1, 5))\n",
    "    \n",
    "    # Save the image\n",
    "    image.save(filename)\n",
    "    print(f\"Random image with matching colors saved as {filename}\")\n",
    "\n",
    "# Example usage\n",
    "width, height = 400, 300\n",
    "num_shapes = 15\n",
    "filename = \"random_image_matching_colors.png\"\n",
    "\n",
    "generate_random_image(width, height, num_shapes, filename)"
   ]
  },
  {
   "cell_type": "markdown",
   "metadata": {},
   "source": [
    "# Generation d'images avec formes geometrique avec equilibrement de couleurs et une watermark"
   ]
  },
  {
   "cell_type": "code",
   "execution_count": 27,
   "metadata": {},
   "outputs": [
    {
     "name": "stdout",
     "output_type": "stream",
     "text": [
      "Random image with matching colors and watermark saved as random_image_with_watermark.png\n"
     ]
    }
   ],
   "source": [
    "import random\n",
    "import colorsys\n",
    "from PIL import Image, ImageDraw, ImageFont\n",
    "\n",
    "def generate_matching_color(base_color, variation=0.2):\n",
    "    h, s, v = colorsys.rgb_to_hsv(*[x/255.0 for x in base_color])\n",
    "    h = (h + random.uniform(-variation, variation)) % 1.0\n",
    "    s = max(0, min(1, s + random.uniform(-variation, variation)))\n",
    "    v = max(0, min(1, v + random.uniform(-variation, variation)))\n",
    "    return tuple(int(x * 255) for x in colorsys.hsv_to_rgb(h, s, v))\n",
    "\n",
    "def generate_random_image(width, height, num_shapes, filename):\n",
    "    # Create a new image with a random base color\n",
    "    base_color = (random.randint(0, 255), random.randint(0, 255), random.randint(0, 255))\n",
    "    image = Image.new('RGB', (width, height), base_color)\n",
    "    draw = ImageDraw.Draw(image)\n",
    "    \n",
    "    # Define shape types\n",
    "    shapes = ['rectangle', 'ellipse', 'line']\n",
    "    \n",
    "    # Draw random shapes\n",
    "    for _ in range(num_shapes):\n",
    "        shape = random.choice(shapes)\n",
    "        color = generate_matching_color(base_color)\n",
    "        \n",
    "        # Random coordinates\n",
    "        x1 = random.randint(0, width - 1)\n",
    "        y1 = random.randint(0, height - 1)\n",
    "        x2 = random.randint(x1, width)\n",
    "        y2 = random.randint(y1, height)\n",
    "        \n",
    "        if shape == 'rectangle':\n",
    "            draw.rectangle([x1, y1, x2, y2], fill=color)\n",
    "        elif shape == 'ellipse':\n",
    "            draw.ellipse([x1, y1, x2, y2], fill=color)\n",
    "        elif shape == 'line':\n",
    "            draw.line([x1, y1, x2, y2], fill=color, width=random.randint(1, 5))\n",
    "    \n",
    "    # Add watermark\n",
    "    watermark_text = \"Made by Benmalek Zohir\"\n",
    "    font_size = int(height / 20)  # Adjust font size based on image height\n",
    "    try:\n",
    "        font = ImageFont.truetype(\"arial.ttf\", font_size)\n",
    "    except IOError:\n",
    "        font = ImageFont.load_default()\n",
    "    \n",
    "    # Get text bounding box\n",
    "    bbox = draw.textbbox((0, 0), watermark_text, font=font)\n",
    "    text_width = bbox[2] - bbox[0]\n",
    "    text_height = bbox[3] - bbox[1]\n",
    "    \n",
    "    text_position = ((width - text_width) / 2, height - text_height - 10)\n",
    "    \n",
    "    # Draw text outline\n",
    "    outline_color = (0, 0, 0)  # Black outline\n",
    "    for offset in [(1, 1), (-1, -1), (1, -1), (-1, 1)]:\n",
    "        draw.text((text_position[0] + offset[0], text_position[1] + offset[1]), \n",
    "                  watermark_text, font=font, fill=outline_color)\n",
    "    \n",
    "    # Draw main text\n",
    "    text_color = (255, 255, 255)  # White text\n",
    "    draw.text(text_position, watermark_text, font=font, fill=text_color)\n",
    "    \n",
    "    # Save the image\n",
    "    image.save(filename)\n",
    "    print(f\"Random image with matching colors and watermark saved as {filename}\")\n",
    "\n",
    "# Example usage\n",
    "width, height = 400, 300\n",
    "num_shapes = 15\n",
    "filename = \"random_image_with_watermark.png\"\n",
    "\n",
    "generate_random_image(width, height, num_shapes, filename)"
   ]
  },
  {
   "cell_type": "code",
   "execution_count": null,
   "metadata": {},
   "outputs": [],
   "source": []
  }
 ],
 "metadata": {
  "kernelspec": {
   "display_name": "Python 3",
   "language": "python",
   "name": "python3"
  },
  "language_info": {
   "codemirror_mode": {
    "name": "ipython",
    "version": 3
   },
   "file_extension": ".py",
   "mimetype": "text/x-python",
   "name": "python",
   "nbconvert_exporter": "python",
   "pygments_lexer": "ipython3",
   "version": "3.10.12"
  }
 },
 "nbformat": 4,
 "nbformat_minor": 2
}
